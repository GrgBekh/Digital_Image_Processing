{
 "cells": [
  {
   "cell_type": "code",
   "execution_count": 1,
   "id": "358f1539",
   "metadata": {},
   "outputs": [],
   "source": [
    "import torch\n",
    "import torch.nn as nn\n",
    "from torchsummary import summary\n",
    "import torch.nn.functional as F\n",
    "from sklearn.metrics import roc_auc_score, precision_score, recall_score, confusion_matrix\n",
    "import torchvision\n",
    "import torchvision.transforms as transforms\n",
    "from torch.utils.data import DataLoader, Dataset, random_split\n",
    "from torchvision.datasets import CIFAR10\n",
    "import numpy as np\n",
    "import matplotlib.pyplot as plt\n",
    "from torchvision.datasets import ImageFolder"
   ]
  },
  {
   "cell_type": "code",
   "execution_count": null,
   "id": "298e87b7",
   "metadata": {},
   "outputs": [],
   "source": [
    "np.seed = 42\n",
    "torch.seed = 42"
   ]
  },
  {
   "cell_type": "code",
   "execution_count": 2,
   "id": "8cb87dcb",
   "metadata": {},
   "outputs": [],
   "source": [
    "class Block(nn.Module):\n",
    "\n",
    "    \n",
    "    def __init__(self, in_channels, out_channels, direction='down'):\n",
    "        assert direction in ['down', 'up', 'out'], \"Direction must be either 'down', 'up' or 'out'.\"\n",
    "        super(Block, self).__init__()\n",
    "        if direction == 'down':\n",
    "            self.conv1 = nn.Conv2d(in_channels, out_channels, 3, 1, 1)\n",
    "            self.conv2 = nn.Conv2d(out_channels, out_channels, 3, 1, 1)\n",
    "            self.out = nn.Conv2d(out_channels, out_channels, 2, 2, 0)\n",
    "        else:\n",
    "            self.conv1 = nn.ConvTranspose2d(in_channels, out_channels, 3, 1, 1)\n",
    "            self.conv2 = nn.ConvTranspose2d(out_channels, out_channels, 3, 1, 1)\n",
    "            if direction == 'up':\n",
    "                self.out = nn.ConvTranspose2d(out_channels, out_channels // 2, 2, 2, 0)\n",
    "            elif direction == 'out':\n",
    "                self.out = nn.ConvTranspose2d(out_channels, 3, 1, 1, 0)\n",
    "            \n",
    "        self.BN1 = nn.BatchNorm2d(out_channels)\n",
    "        self.relu1 = nn.ReLU()\n",
    "        self.BN2 = nn.BatchNorm2d(out_channels)\n",
    "        self.relu2 = nn.ReLU()\n",
    "        self.direction = direction\n",
    "    \n",
    "    def forward(self, inputs, cat_layers=None):\n",
    "        if self.direction != 'down':\n",
    "            assert cat_layers is not None, \"'up' and 'out' directions must have concatenated layers.\"\n",
    "            assert inputs.shape == cat_layers.shape, \"Shape of both inputs and concatenated layers must be equal.\"\n",
    "            inputs = torch.cat((inputs, cat_layers), dim=1)\n",
    "        \n",
    "        conv1 = self.conv1(inputs)\n",
    "        BN1 = self.BN1(conv1)\n",
    "        relu1 = self.relu1(BN1)\n",
    "        conv2 = self.conv2(relu1)\n",
    "        BN2 = self.BN2(conv2)\n",
    "        relu2 = self.relu2(BN2)\n",
    "        out = self.out(relu2)\n",
    "        if self.direction == 'down':\n",
    "            return out, relu2\n",
    "        else:\n",
    "            return out\n",
    "        \n",
    "\n",
    "class Encoder(nn.Module):\n",
    "    \"\"\"\n",
    "    Encoder class, consists of three 'down' blocks.\n",
    "    \"\"\"\n",
    "    \n",
    "    def __init__(self):\n",
    "        super(Encoder, self).__init__()\n",
    "        self.block1 = Block(3, 16, 'down')\n",
    "        self.block2 = Block(16, 32, 'down')\n",
    "        self.block3 = Block(32, 64, 'down')\n",
    "    \n",
    "    def forward(self, inputs):\n",
    "        block1, concat1 = self.block1(inputs)\n",
    "        block2, concat2 = self.block2(block1)\n",
    "        block3, concat3 = self.block3(block2)\n",
    "        concats = [concat1, concat2, concat3]\n",
    "        return block3, concats\n",
    "\n",
    "class Decoder(nn.Module):\n",
    "    \"\"\"\n",
    "    Decoder class, consists of two 'up' blocks and a final 'out' block.\n",
    "    \"\"\"\n",
    "    \n",
    "    def __init__(self):\n",
    "        super(Decoder, self).__init__()\n",
    "        self.block1 = Block(128, 64, 'up')\n",
    "        self.block2 = Block(64, 32, 'up')\n",
    "        self.block3 = Block(32, 16, 'out')\n",
    "    \n",
    "    def forward(self, inputs, concats):\n",
    "        block1 = self.block1(inputs, concats[-1])\n",
    "        block2 = self.block2(block1, concats[-2])\n",
    "        block3 = self.block3(block2, concats[-3])\n",
    "        return block3\n",
    "    \n",
    "class Autoencoder(nn.Module):\n",
    "    \"\"\"\n",
    "    Autoencoder class, combines encoder and decoder model with a bottleneck\n",
    "    layer in between.\n",
    "    \"\"\"\n",
    "    \n",
    "    def __init__(self):\n",
    "        super(Autoencoder, self).__init__()\n",
    "        self.encoder = Encoder()\n",
    "        self.decoder = Decoder()\n",
    "        self.bottleneck = nn.Sequential(\n",
    "            nn.Conv2d(64, 128, 3, 1, 1),  # Reduced from 64, 128 to 32, 64\n",
    "            nn.BatchNorm2d(128),\n",
    "            nn.ReLU(),\n",
    "            nn.ConvTranspose2d(128, 64, 2, 2, 0) # Removed one Conv2d layer\n",
    "        )\n",
    "    \n",
    "   \n",
    "    \n",
    "    def forward(self, inputs):\n",
    "        encoded, concatted = self.encoder(inputs)\n",
    "        bottlenecked = self.bottleneck(encoded)\n",
    "        decoded = self.decoder(bottlenecked, concatted)\n",
    "        added = inputs + decoded\n",
    "        return added"
   ]
  },
  {
   "cell_type": "code",
   "execution_count": 3,
   "id": "0bfbd76a",
   "metadata": {},
   "outputs": [],
   "source": [
    "model = Autoencoder()\n",
    "\n",
    "# Instantiate the model\n",
    "device = torch.device('cuda' if torch.cuda.is_available() else 'cpu')\n",
    "model = model.to(device)"
   ]
  },
  {
   "cell_type": "code",
   "execution_count": 4,
   "id": "af4a97ac",
   "metadata": {},
   "outputs": [],
   "source": [
    "train_transform = transforms.Compose([\n",
    "    transforms.Resize((32, 32)),\n",
    "    transforms.RandomVerticalFlip(),\n",
    "    transforms.RandomHorizontalFlip(),\n",
    "    transforms.RandomRotation(5),\n",
    "    transforms.ToTensor(),\n",
    "    transforms.Normalize(mean=0, std=1),\n",
    "])\n",
    "\n",
    "transform = transforms.Compose([\n",
    "    transforms.Resize((32, 32)),\n",
    "    transforms.ToTensor(),\n",
    "    transforms.Normalize(mean=0, std=1)\n",
    "])\n",
    "\n",
    "dataset = ImageFolder(root='./dataset/train', transform=train_transform)\n",
    "\n",
    "train_size = int(0.9 * len(dataset))\n",
    "validation_size = len(dataset) - train_size\n",
    "train_dataset, validation_dataset = random_split(dataset, [train_size, validation_size])\n",
    "\n",
    "# Data loaders\n",
    "train_loader = DataLoader(train_dataset, batch_size=128, shuffle=True)\n",
    "validation_loader = DataLoader(validation_dataset, batch_size=128, shuffle=False)"
   ]
  },
  {
   "cell_type": "code",
   "execution_count": 5,
   "id": "630a89ab",
   "metadata": {},
   "outputs": [],
   "source": [
    "learning_rate = 0.0003\n",
    "\n",
    "# Instantiate the model\n",
    "model = Autoencoder().to(device)\n",
    "\n",
    "# Loss and optimizer\n",
    "criterion = nn.MSELoss()\n",
    "optimizer = torch.optim.AdamW(model.parameters(), lr=learning_rate)"
   ]
  },
  {
   "cell_type": "code",
   "execution_count": 6,
   "id": "7fff3080",
   "metadata": {},
   "outputs": [
    {
     "name": "stdout",
     "output_type": "stream",
     "text": [
      "Epoch 1/25, Train Loss: 0.15362306286763286\n",
      "Epoch 1/25, Validation Loss: 0.03067097304896875\n",
      "Epoch 2/25, Train Loss: 0.013094958926061379\n",
      "Epoch 2/25, Validation Loss: 0.006180053068832917\n",
      "Epoch 3/25, Train Loss: 0.003657980541189768\n",
      "Epoch 3/25, Validation Loss: 0.0023789799941534347\n",
      "Epoch 4/25, Train Loss: 0.0017917369235518207\n",
      "Epoch 4/25, Validation Loss: 0.0014136807823723013\n",
      "Epoch 5/25, Train Loss: 0.001175420113344744\n",
      "Epoch 5/25, Validation Loss: 0.0010349658391946418\n",
      "Epoch 6/25, Train Loss: 0.0008553791906415802\n",
      "Epoch 6/25, Validation Loss: 0.0007119664594277062\n",
      "Epoch 7/25, Train Loss: 0.0006384270601142582\n",
      "Epoch 7/25, Validation Loss: 0.0005608422983310778\n",
      "Epoch 8/25, Train Loss: 0.0005267230684619359\n",
      "Epoch 8/25, Validation Loss: 0.00046581273834983057\n",
      "Epoch 9/25, Train Loss: 0.00043617963002389777\n",
      "Epoch 9/25, Validation Loss: 0.0003817876620980149\n",
      "Epoch 10/25, Train Loss: 0.00036672839220402016\n",
      "Epoch 10/25, Validation Loss: 0.00032113008306954396\n",
      "Epoch 11/25, Train Loss: 0.0003186668480564024\n",
      "Epoch 11/25, Validation Loss: 0.00027742045296525413\n",
      "Epoch 12/25, Train Loss: 0.0002798921371313273\n",
      "Epoch 12/25, Validation Loss: 0.0002497341682266613\n",
      "Epoch 13/25, Train Loss: 0.00024566979590952205\n",
      "Epoch 13/25, Validation Loss: 0.00023050071004862812\n",
      "Epoch 14/25, Train Loss: 0.00022339856851553142\n",
      "Epoch 14/25, Validation Loss: 0.00020174427878704262\n",
      "Epoch 15/25, Train Loss: 0.00020591328406620042\n",
      "Epoch 15/25, Validation Loss: 0.000207871419578706\n",
      "Epoch 16/25, Train Loss: 0.00018280373043716723\n",
      "Epoch 16/25, Validation Loss: 0.00016779098818501964\n",
      "Epoch 17/25, Train Loss: 0.0001602776930067381\n",
      "Epoch 17/25, Validation Loss: 0.00014184729132631963\n",
      "Epoch 18/25, Train Loss: 0.00014258843338652274\n",
      "Epoch 18/25, Validation Loss: 0.00013566637790063396\n",
      "Epoch 19/25, Train Loss: 0.00014547364506930515\n",
      "Epoch 19/25, Validation Loss: 0.00022003471332771534\n",
      "Epoch 20/25, Train Loss: 0.00014143313163322559\n",
      "Epoch 20/25, Validation Loss: 0.00012339478350688958\n",
      "Epoch 21/25, Train Loss: 0.0001136771492214787\n",
      "Epoch 21/25, Validation Loss: 9.620866198516028e-05\n",
      "Epoch 22/25, Train Loss: 0.00010428566635063053\n",
      "Epoch 22/25, Validation Loss: 9.744507472284816e-05\n",
      "Epoch 23/25, Train Loss: 0.00010039841436082497\n",
      "Epoch 23/25, Validation Loss: 9.799452990674499e-05\n",
      "Epoch 24/25, Train Loss: 9.886087970052049e-05\n",
      "Epoch 24/25, Validation Loss: 0.0001747281176821244\n",
      "Epoch 25/25, Train Loss: 9.963481791123038e-05\n",
      "Epoch 25/25, Validation Loss: 7.97969895012846e-05\n"
     ]
    }
   ],
   "source": [
    "num_epochs = 25\n",
    "model.train()\n",
    "train_losses = []\n",
    "val_losses = []\n",
    "for epoch in range(num_epochs):\n",
    "    train_loss = 0.0\n",
    "    for i, (images, _) in enumerate(train_loader):\n",
    "        model.train()\n",
    "        images = images.to(device)\n",
    "        \n",
    "        # Forward pass\n",
    "        outputs = model(images)\n",
    "        loss = criterion(outputs, images)\n",
    "        train_loss += loss.item()\n",
    "\n",
    "        # Backward and optimize\n",
    "        optimizer.zero_grad()\n",
    "        loss.backward()\n",
    "        optimizer.step()\n",
    "\n",
    "\n",
    "    model.eval()\n",
    "    validation_loss = 0.0\n",
    "    with torch.no_grad():\n",
    "        for i, (inputs, _) in enumerate(validation_loader):\n",
    "            inputs = inputs.to(device)\n",
    "            outputs = model(inputs)\n",
    "            loss = criterion(outputs, inputs)\n",
    "            validation_loss += loss.item()\n",
    "    validation_loss = validation_loss / len(validation_loader)\n",
    "    train_loss = train_loss / len(train_loader)\n",
    "    \n",
    "    train_losses.append(train_loss)\n",
    "    val_losses.append(validation_loss)\n",
    "    \n",
    "    print(f\"Epoch {epoch+1}/{num_epochs}, Train Loss: {train_loss}\")\n",
    "    print(f\"Epoch {epoch+1}/{num_epochs}, Validation Loss: {validation_loss}\")"
   ]
  },
  {
   "cell_type": "code",
   "execution_count": 7,
   "id": "f39fb5b9",
   "metadata": {},
   "outputs": [],
   "source": [
    "dataset = ImageFolder(root='./dataset/train', transform=transform)"
   ]
  },
  {
   "cell_type": "code",
   "execution_count": 8,
   "id": "5e18d1bc",
   "metadata": {},
   "outputs": [],
   "source": [
    "model.eval()\n",
    "\n",
    "losses = []\n",
    "\n",
    "with torch.no_grad():\n",
    "    for i, (images, _) in enumerate(DataLoader(dataset, batch_size=128, shuffle=False)):\n",
    "        images = images.to(device)\n",
    "        outputs = model(images)\n",
    "        loss = criterion(outputs, images)\n",
    "        losses.append(float(loss.to('cpu')))"
   ]
  },
  {
   "cell_type": "code",
   "execution_count": 9,
   "id": "9b74aa8f",
   "metadata": {},
   "outputs": [
    {
     "data": {
      "text/plain": [
       "5.396448585088366e-05"
      ]
     },
     "execution_count": 9,
     "metadata": {},
     "output_type": "execute_result"
    }
   ],
   "source": [
    "losses_numpy = np.array(losses)\n",
    "np.quantile(losses_numpy, 0.92)\n"
   ]
  },
  {
   "cell_type": "code",
   "execution_count": 10,
   "id": "0d469ae3",
   "metadata": {},
   "outputs": [],
   "source": [
    "proliv_dataset = ImageFolder(root='./dataset/proliv', transform=transform)"
   ]
  },
  {
   "cell_type": "code",
   "execution_count": 11,
   "id": "05bcfde6",
   "metadata": {},
   "outputs": [],
   "source": [
    "model.eval()\n",
    "\n",
    "losses_proliv = []\n",
    "\n",
    "with torch.no_grad():\n",
    "    for i, (images, _) in enumerate(DataLoader(proliv_dataset, batch_size=1, shuffle=False)):\n",
    "        images = images.to(device)\n",
    "        outputs = model(images)\n",
    "        loss = criterion(outputs, images)\n",
    "        losses_proliv.append(float(loss.to('cpu')))"
   ]
  },
  {
   "cell_type": "code",
   "execution_count": 12,
   "id": "6aa90038",
   "metadata": {},
   "outputs": [],
   "source": [
    "losses_proliv_numpy = np.array(losses_proliv)"
   ]
  },
  {
   "cell_type": "code",
   "execution_count": 13,
   "id": "97504833",
   "metadata": {},
   "outputs": [
    {
     "data": {
      "text/plain": [
       "7.155187282478437e-05"
      ]
     },
     "execution_count": 13,
     "metadata": {},
     "output_type": "execute_result"
    }
   ],
   "source": [
    "np.quantile(losses_proliv_numpy, 0.08)"
   ]
  },
  {
   "cell_type": "code",
   "execution_count": 14,
   "id": "f97e235e",
   "metadata": {},
   "outputs": [
    {
     "data": {
      "text/plain": [
       "5.358355338103138e-05"
      ]
     },
     "execution_count": 14,
     "metadata": {},
     "output_type": "execute_result"
    }
   ],
   "source": [
    "losses_proliv_numpy.min()\n",
    "#это и будет threshold"
   ]
  },
  {
   "cell_type": "code",
   "execution_count": 15,
   "id": "094def7f",
   "metadata": {},
   "outputs": [],
   "source": [
    "import pandas as pd"
   ]
  },
  {
   "cell_type": "code",
   "execution_count": 16,
   "id": "9023a557",
   "metadata": {},
   "outputs": [],
   "source": [
    "labels_df = pd.read_csv('./dataset/test/test_annotation.txt', sep = ' ', names = ['hashname', 'class'])"
   ]
  },
  {
   "cell_type": "code",
   "execution_count": 17,
   "id": "078970a3",
   "metadata": {},
   "outputs": [],
   "source": [
    "class CustomDataset(Dataset):\n",
    "    def __init__(self, image_paths, labels, transform=None):\n",
    "        self.image_paths = image_paths\n",
    "        self.labels = labels\n",
    "        self.transform = transform\n",
    "\n",
    "    def __len__(self):\n",
    "        return len(self.image_paths)\n",
    "\n",
    "    def __getitem__(self, idx):\n",
    "        image_path = self.image_paths[idx]\n",
    "        image = Image.open(image_path).convert('RGB')\n",
    "        label = self.labels[idx]\n",
    "\n",
    "        if self.transform:\n",
    "            image = self.transform(image)\n",
    "\n",
    "        return image, label, image_path "
   ]
  },
  {
   "cell_type": "code",
   "execution_count": 18,
   "id": "dd335c9c",
   "metadata": {},
   "outputs": [],
   "source": [
    "class ImageFolderWithPaths(ImageFolder):\n",
    "    \"\"\"Custom dataset that includes image file paths.\"\"\"\n",
    "\n",
    "    def __getitem__(self, index):\n",
    "        # This is the original method\n",
    "        original_tuple = super(ImageFolderWithPaths, self).__getitem__(index)\n",
    "\n",
    "        # The image file path\n",
    "        path = self.imgs[index][0]\n",
    "\n",
    "        # Make a new tuple that includes original and the path\n",
    "        tuple_with_path = (original_tuple + (path,))\n",
    "        return tuple_with_path"
   ]
  },
  {
   "cell_type": "code",
   "execution_count": 19,
   "id": "8745029a",
   "metadata": {},
   "outputs": [],
   "source": [
    "test_dataset = ImageFolderWithPaths(root='dataset/test/imgs', transform=transform)\n",
    "test_dataloader = DataLoader(test_dataset, batch_size=1, shuffle=False)"
   ]
  },
  {
   "cell_type": "code",
   "execution_count": 20,
   "id": "78f51011",
   "metadata": {},
   "outputs": [],
   "source": [
    "model.eval()\n",
    "\n",
    "losses_test = []\n",
    "\n",
    "with torch.no_grad():\n",
    "    for images, labels, paths in test_dataloader:\n",
    "        images = images.to(device)\n",
    "        outputs = model(images)\n",
    "        loss = criterion(outputs, images)\n",
    "        losses_test.append((paths, float(loss.to('cpu'))))"
   ]
  },
  {
   "cell_type": "code",
   "execution_count": 21,
   "id": "db9eeb9a",
   "metadata": {},
   "outputs": [
    {
     "data": {
      "text/plain": [
       "'00423bc0-f741-41fe-af72-3d7bc2016a7f.jpg'"
      ]
     },
     "execution_count": 21,
     "metadata": {},
     "output_type": "execute_result"
    }
   ],
   "source": [
    "losses_test[1][0][0][25:]"
   ]
  },
  {
   "cell_type": "code",
   "execution_count": 88,
   "id": "fff76bbd",
   "metadata": {},
   "outputs": [],
   "source": [
    "new_losses_test = []\n",
    "for i in range(len(losses_test)):\n",
    "    record_in_pandas_df = {'hashname': losses_test[i][0][0][25:], 'loss' : losses_test[i][1]}\n",
    "    new_losses_test.append(record_in_pandas_df)\n",
    "losses_df = pd.DataFrame(new_losses_test)\n",
    "total_df = pd.merge(losses_df, labels_df, how = 'left', on = 'hashname')"
   ]
  },
  {
   "cell_type": "code",
   "execution_count": 89,
   "id": "0ffecee1",
   "metadata": {},
   "outputs": [],
   "source": [
    "threshold_for_classification = losses_proliv_numpy.min()\n",
    "total_df['predictions'] = (total_df['loss'] > threshold_for_classification).astype(int)\n",
    "tn, fp, fn, tp = confusion_matrix(total_df['class'], total_df['predictions']).ravel()\n",
    "tpr = tp / (tp + fn)"
   ]
  },
  {
   "cell_type": "code",
   "execution_count": 90,
   "id": "9094dd91",
   "metadata": {},
   "outputs": [
    {
     "data": {
      "text/plain": [
       "0.9612403100775194"
      ]
     },
     "execution_count": 90,
     "metadata": {},
     "output_type": "execute_result"
    }
   ],
   "source": [
    "tpr"
   ]
  },
  {
   "cell_type": "code",
   "execution_count": 91,
   "id": "811bf582",
   "metadata": {},
   "outputs": [],
   "source": [
    "tnr = tn / (tn + fp)"
   ]
  },
  {
   "cell_type": "code",
   "execution_count": 92,
   "id": "f950aa9e",
   "metadata": {},
   "outputs": [
    {
     "data": {
      "text/plain": [
       "0.9197817189631651"
      ]
     },
     "execution_count": 92,
     "metadata": {},
     "output_type": "execute_result"
    }
   ],
   "source": [
    "tnr"
   ]
  },
  {
   "cell_type": "code",
   "execution_count": 93,
   "id": "48b98642",
   "metadata": {},
   "outputs": [
    {
     "data": {
      "text/plain": [
       "<matplotlib.legend.Legend at 0x16737e9c2d0>"
      ]
     },
     "execution_count": 93,
     "metadata": {},
     "output_type": "execute_result"
    },
    {
     "data": {
      "image/png": "[encoded data removed]",
      "text/plain": [
       "<Figure size 640x480 with 1 Axes>"
      ]
     },
     "metadata": {},
     "output_type": "display_data"
    }
   ],
   "source": [
    "plt.plot(train_losses, label = 'train_loss')\n",
    "plt.plot(val_losses, label = 'val_loss')\n",
    "plt.legend()"
   ]
  },
  {
   "cell_type": "code",
   "execution_count": null,
   "id": "29b547a6",
   "metadata": {},
   "outputs": [],
   "source": []
  },
  {
   "cell_type": "code",
   "execution_count": null,
   "id": "0fbe3225",
   "metadata": {},
   "outputs": [],
   "source": []
  },
  {
   "cell_type": "code",
   "execution_count": null,
   "id": "ba13775f",
   "metadata": {},
   "outputs": [],
   "source": []
  },
  {
   "cell_type": "code",
   "execution_count": null,
   "id": "57bce2b7",
   "metadata": {},
   "outputs": [],
   "source": []
  },
  {
   "cell_type": "code",
   "execution_count": null,
   "id": "425ed1d9",
   "metadata": {},
   "outputs": [],
   "source": []
  }
 ],
 "metadata": {
  "kernelspec": {
   "display_name": "Python 3 (ipykernel)",
   "language": "python",
   "name": "python3"
  },
  "language_info": {
   "codemirror_mode": {
    "name": "ipython",
    "version": 3
   },
   "file_extension": ".py",
   "mimetype": "text/x-python",
   "name": "python",
   "nbconvert_exporter": "python",
   "pygments_lexer": "ipython3",
   "version": "3.11.5"
  }
 },
 "nbformat": 4,
 "nbformat_minor": 5
}
